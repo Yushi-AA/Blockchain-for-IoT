{
  "nbformat": 4,
  "nbformat_minor": 0,
  "metadata": {
    "colab": {
      "provenance": [],
      "authorship_tag": "ABX9TyN0exZBfOjwSc/pvuAbKN9h",
      "include_colab_link": true
    },
    "kernelspec": {
      "name": "python3",
      "display_name": "Python 3"
    },
    "language_info": {
      "name": "python"
    }
  },
  "cells": [
    {
      "cell_type": "markdown",
      "metadata": {
        "id": "view-in-github",
        "colab_type": "text"
      },
      "source": [
        "<a href=\"https://colab.research.google.com/github/Yushi-AA/Blockchain-for-IoT/blob/main/Experiment_1.ipynb\" target=\"_parent\"><img src=\"https://colab.research.google.com/assets/colab-badge.svg\" alt=\"Open In Colab\"/></a>"
      ]
    },
    {
      "cell_type": "code",
      "execution_count": null,
      "metadata": {
        "id": "aZcuRcUfFspQ"
      },
      "outputs": [],
      "source": []
    },
    {
      "cell_type": "code",
      "source": [
        "import random\n",
        "import json\n",
        "import time\n",
        "from datetime import datetime\n",
        "\n"
      ],
      "metadata": {
        "id": "H2PqwflRGGJC"
      },
      "execution_count": null,
      "outputs": []
    },
    {
      "cell_type": "code",
      "source": [
        "def temperature():\n",
        "\n",
        "    return round(random.uniform(10, 20), 2)\n",
        "\n",
        "def humidity():\n",
        "\n",
        "    return round(random.uniform(30, 70), 2)\n",
        "\n",
        "def collect_data():\n",
        "    data = {\n",
        "        'timestamp': datetime.now().isoformat(),\n",
        "        'temperature': temperature(),\n",
        "        'humidity': humidity()\n",
        "    }\n",
        "    return data\n",
        "\n"
      ],
      "metadata": {
        "id": "6WQUZxkVG8UJ"
      },
      "execution_count": null,
      "outputs": []
    },
    {
      "cell_type": "code",
      "source": [
        "interval =3\n",
        "i=0\n",
        "while i<10:\n",
        "     with open('data.json', 'w') as file:\n",
        "        data = collect_data()\n",
        "        json.dump(data, file, indent=4)\n",
        "        print(data)\n",
        "     time.sleep(interval)\n",
        "     i=i+1"
      ],
      "metadata": {
        "colab": {
          "base_uri": "https://localhost:8080/"
        },
        "id": "fxX0A0f1KHSJ",
        "outputId": "973d0921-9da8-4fa7-955c-d4fe28e339f8"
      },
      "execution_count": null,
      "outputs": [
        {
          "output_type": "stream",
          "name": "stdout",
          "text": [
            "{'timestamp': '2024-07-29T11:48:23.986508', 'temperature': 15.03, 'humidity': 56.73}\n",
            "{'timestamp': '2024-07-29T11:48:26.990378', 'temperature': 10.57, 'humidity': 41.29}\n",
            "{'timestamp': '2024-07-29T11:48:29.995125', 'temperature': 11.21, 'humidity': 66.6}\n",
            "{'timestamp': '2024-07-29T11:48:32.998422', 'temperature': 19.66, 'humidity': 63.75}\n",
            "{'timestamp': '2024-07-29T11:48:36.002410', 'temperature': 15.75, 'humidity': 56.16}\n",
            "{'timestamp': '2024-07-29T11:48:39.005997', 'temperature': 18.7, 'humidity': 33.96}\n",
            "{'timestamp': '2024-07-29T11:48:42.010452', 'temperature': 11.3, 'humidity': 35.26}\n",
            "{'timestamp': '2024-07-29T11:48:45.015222', 'temperature': 11.39, 'humidity': 51.32}\n",
            "{'timestamp': '2024-07-29T11:48:48.019606', 'temperature': 18.7, 'humidity': 49.22}\n",
            "{'timestamp': '2024-07-29T11:48:51.025547', 'temperature': 12.18, 'humidity': 53.77}\n"
          ]
        }
      ]
    }
  ]
}